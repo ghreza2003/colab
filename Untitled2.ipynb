{
  "nbformat": 4,
  "nbformat_minor": 0,
  "metadata": {
    "colab": {
      "provenance": [],
      "authorship_tag": "ABX9TyOMslbopabiyvOlm7ZShEAc",
      "include_colab_link": true
    },
    "kernelspec": {
      "name": "python3",
      "display_name": "Python 3"
    },
    "language_info": {
      "name": "python"
    }
  },
  "cells": [
    {
      "cell_type": "markdown",
      "metadata": {
        "id": "view-in-github",
        "colab_type": "text"
      },
      "source": [
        "<a href=\"https://colab.research.google.com/github/ghreza2003/colab/blob/main/Untitled2.ipynb\" target=\"_parent\"><img src=\"https://colab.research.google.com/assets/colab-badge.svg\" alt=\"Open In Colab\"/></a>"
      ]
    },
    {
      "cell_type": "code",
      "execution_count": null,
      "metadata": {
        "id": "QBfuTJ0hO5hJ"
      },
      "outputs": [],
      "source": [
        "\n",
        "#کلاس دایره :\n",
        "\n",
        "import math\n",
        "class circle():\n",
        "    pi=math.pi\n",
        "    def __init__ (self, r=5):\n",
        "        self.rad = r\n",
        "        print(\"circle created\")\n",
        "    def perim(self):\n",
        "        return 2*pi*self.rad\n",
        "    def Area(self):\n",
        "        return p*r*r\n",
        "    def _zdel (self):\n",
        "        print(\"circle deleted\")\n",
        "        return -1\n",
        "K = circle(10)\n",
        "print(K.Area)\n",
        "print(K.perim)\n",
        "print(K.pi)\n",
        "del K"
      ]
    }
  ]
}