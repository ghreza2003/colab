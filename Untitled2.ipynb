{
  "nbformat": 4,
  "nbformat_minor": 0,
  "metadata": {
    "colab": {
      "provenance": [],
      "authorship_tag": "ABX9TyPTgti69DwGctRtgLsn0g3b",
      "include_colab_link": true
    },
    "kernelspec": {
      "name": "python3",
      "display_name": "Python 3"
    },
    "language_info": {
      "name": "python"
    }
  },
  "cells": [
    {
      "cell_type": "markdown",
      "metadata": {
        "id": "view-in-github",
        "colab_type": "text"
      },
      "source": [
        "<a href=\"https://colab.research.google.com/github/ghreza2003/colab/blob/main/Untitled2.ipynb\" target=\"_parent\"><img src=\"https://colab.research.google.com/assets/colab-badge.svg\" alt=\"Open In Colab\"/></a>"
      ]
    },
    {
      "cell_type": "code",
      "execution_count": null,
      "metadata": {
        "id": "QBfuTJ0hO5hJ"
      },
      "outputs": [],
      "source": [
        "\n",
        "class x:\n",
        "     def test(self,k=10,p=10):\n",
        "       if(k!=10 and p!=10):\n",
        "        self.k=k\n",
        "        self.p=p\n",
        "        return k*p\n",
        "       elif(k is not 10 and p==10):\n",
        "        return 3.14*k*k\n",
        "       else :\n",
        "        return 100"
      ]
    }
  ]
}