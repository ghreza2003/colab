{
  "nbformat": 4,
  "nbformat_minor": 0,
  "metadata": {
    "colab": {
      "provenance": [],
      "authorship_tag": "ABX9TyPcoN1ucDneeWTEvXw09V05",
      "include_colab_link": true
    },
    "kernelspec": {
      "name": "python3",
      "display_name": "Python 3"
    },
    "language_info": {
      "name": "python"
    }
  },
  "cells": [
    {
      "cell_type": "markdown",
      "metadata": {
        "id": "view-in-github",
        "colab_type": "text"
      },
      "source": [
        "<a href=\"https://colab.research.google.com/github/ghreza2003/colab/blob/main/Untitled3.ipynb\" target=\"_parent\"><img src=\"https://colab.research.google.com/assets/colab-badge.svg\" alt=\"Open In Colab\"/></a>"
      ]
    },
    {
      "cell_type": "code",
      "source": [
        "#کلاس دایره :\n",
        "\n",
        "import math\n",
        "class circle():\n",
        "    pi=math.pi\n",
        "    def __init__ (self, r=5):\n",
        "        self.rad = r\n",
        "        print(\"circle created\")\n",
        "    def perim(self):\n",
        "        return 2*pi*self.rad\n",
        "    def Area(self):\n",
        "        return p*r*r\n",
        "    def _zdel (self):\n",
        "        print(\"circle deleted\")\n",
        "        return -1\n",
        "K = circle(10)\n",
        "print(K.Area)\n",
        "print(K.perim)\n",
        "print(K.pi)\n",
        "del K\n",
        "#circle created\n",
        "#314\n",
        "#62.8\n",
        "#3.14\n",
        "#circle deleted\n",
        ""
      ],
      "metadata": {
        "id": "rOMf0ZfnZwSs"
      },
      "execution_count": null,
      "outputs": []
    }
  ]
}