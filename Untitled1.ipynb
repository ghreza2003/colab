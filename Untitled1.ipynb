{
  "nbformat": 4,
  "nbformat_minor": 0,
  "metadata": {
    "colab": {
      "provenance": [],
      "authorship_tag": "ABX9TyNNYqigWG2xSRmsljSTnNmS",
      "include_colab_link": true
    },
    "kernelspec": {
      "name": "python3",
      "display_name": "Python 3"
    },
    "language_info": {
      "name": "python"
    }
  },
  "cells": [
    {
      "cell_type": "markdown",
      "metadata": {
        "id": "view-in-github",
        "colab_type": "text"
      },
      "source": [
        "<a href=\"https://colab.research.google.com/github/ghreza2003/colab/blob/main/Untitled1.ipynb\" target=\"_parent\"><img src=\"https://colab.research.google.com/assets/colab-badge.svg\" alt=\"Open In Colab\"/></a>"
      ]
    },
    {
      "cell_type": "code",
      "execution_count": null,
      "metadata": {
        "id": "fEKtqmwECV8n"
      },
      "outputs": [],
      "source": [
        "\n",
        "#برنامه ای بنویسید 3 عدد صحیح a b C را گرفته آنگاه بزرگترین آن ها را خروجی دهد\n",
        "#include <iostream>\n",
        "Main()\n",
        "{\n",
        "int a,b,c,max;\n",
        "Cin >>a>>b>>c;\n",
        "max=a;\n",
        "if(b>max)\n",
        "   max = b;\n",
        "if(c>max)\n",
        "   max = c;\n",
        "Cout<<max;\n",
        "}\n"
      ]
    }
  ]
}