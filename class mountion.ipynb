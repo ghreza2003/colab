{
  "nbformat": 4,
  "nbformat_minor": 0,
  "metadata": {
    "colab": {
      "provenance": [],
      "authorship_tag": "ABX9TyOCo4g9eQ7g4aD8uAC0ae/h",
      "include_colab_link": true
    },
    "kernelspec": {
      "name": "python3",
      "display_name": "Python 3"
    },
    "language_info": {
      "name": "python"
    }
  },
  "cells": [
    {
      "cell_type": "markdown",
      "metadata": {
        "id": "view-in-github",
        "colab_type": "text"
      },
      "source": [
        "<a href=\"https://colab.research.google.com/github/ghreza2003/colab/blob/main/class%20mountion.ipynb\" target=\"_parent\"><img src=\"https://colab.research.google.com/assets/colab-badge.svg\" alt=\"Open In Colab\"/></a>"
      ]
    },
    {
      "cell_type": "code",
      "source": [
        "\n",
        "import random\n",
        "\n",
        "class Mountain:\n",
        "    def __init__(self, name, height, location, water, age, climate, tree):\n",
        "        self.name = name\n",
        "        self.height = height\n",
        "        self.location = location\n",
        "        self.water = water\n",
        "        self.age = age\n",
        "        self.climate = climate\n",
        "        self.tree = tree\n",
        "\n",
        "    def nlh(self):\n",
        "        return f\"name {self.name} - loc {self.location} - H {self.height} m\"\n",
        "\n",
        "    def _old(self):\n",
        "        return self.age > 1000000\n",
        "\n",
        "    def _cold(self):\n",
        "        return self.climate == \"cold\"\n",
        "\n",
        "    def _high(self):\n",
        "        return self.height > 4000\n",
        "\n",
        "    def t_t(self):\n",
        "        return self.tree < 100\n",
        "\n",
        "    def t_w(self):\n",
        "        return f\"{[self.tree], [self.water]}\"\n",
        "\n",
        "def generate_mountains():\n",
        "    mountains = []\n",
        "    for i in range(20):\n",
        "        name = random.choice([\"A\", \"B\", \"C\"])\n",
        "        height = random.randint(1000, 6000)\n",
        "        location = random.choice([\"Asia\", \"Europe\", \"North America\", \"South America\", \"Africa\", \"Oceania\"])\n",
        "        water = random.randint(40000, 66666)\n",
        "        age = random.randint(100000, 10000000)\n",
        "        climate = random.choice([\"cold\", \"hot\"])\n",
        "        tree = random.randint(200, 250)\n",
        "        mountains.append(Mountain(name, height, location, water, age, climate, tree))\n",
        "    return mountains\n",
        "\n",
        "def sort_w_t(mountains):\n",
        "    return sorted(mountains, key=lambda x: (x.water, x.tree))\n",
        "\n",
        "def compare_and_print_higher(mountain1, mountain2):\n",
        "    if mountain1.height > mountain2.height:\n",
        "        print(f\"The higher mountain is: {mountain1.nlh()}\")\n",
        "    elif mountain1.height < mountain2.height:\n",
        "        print(f\"The higher mountain is: {mountain2.nlh()}\")\n",
        "    else:\n",
        "        print(\"Both mountains have the same height.\")\n",
        "\n",
        "if __name__ == \"__main__\":\n",
        "    random_mountains = generate_mountains()\n",
        "    sorted_mountains = sort_w_t(random_mountains)\n",
        "\n",
        "    for mountain in sorted_mountains:\n",
        "        print(mountain.nlh())\n",
        "        print(mountain._old())\n",
        "        print(mountain._cold())\n",
        "        print(mountain.t_t())\n",
        "        print(mountain.t_w())\n",
        "\n",
        "    # مثال استفاده از تابع مقایسه\n",
        "    mountain1 = Mountain(\"Everest\", 8848, \"Asia\", 50000, 60000000, \"cold\", 50)\n",
        "    mountain2 = Mountain(\"K2\", 8611, \"Asia\", 40000, 50000000, \"cold\", 30)\n",
        "\n",
        "    compare_and_print_higher(mountain1, mountain2)"
      ],
      "metadata": {
        "id": "YuzAwzFHYCov"
      },
      "execution_count": null,
      "outputs": []
    }
  ]
}