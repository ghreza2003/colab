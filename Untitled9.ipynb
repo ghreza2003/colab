{
  "nbformat": 4,
  "nbformat_minor": 0,
  "metadata": {
    "colab": {
      "provenance": [],
      "authorship_tag": "ABX9TyOrsTni2khFtAKJC2cqikTN",
      "include_colab_link": true
    },
    "kernelspec": {
      "name": "python3",
      "display_name": "Python 3"
    },
    "language_info": {
      "name": "python"
    }
  },
  "cells": [
    {
      "cell_type": "markdown",
      "metadata": {
        "id": "view-in-github",
        "colab_type": "text"
      },
      "source": [
        "<a href=\"https://colab.research.google.com/github/ghreza2003/colab/blob/main/Untitled9.ipynb\" target=\"_parent\"><img src=\"https://colab.research.google.com/assets/colab-badge.svg\" alt=\"Open In Colab\"/></a>"
      ]
    },
    {
      "cell_type": "code",
      "source": [
        "\n",
        "class A():\n",
        "    name='Ali'\n",
        "    age=25\n",
        "A.name='reza'\n",
        "print (A.name)\n",
        "test=A()\n",
        "test. name='Ahmad'\n",
        "print(test.age)"
      ],
      "metadata": {
        "id": "6csRzfmAXooR"
      },
      "execution_count": null,
      "outputs": []
    }
  ]
}