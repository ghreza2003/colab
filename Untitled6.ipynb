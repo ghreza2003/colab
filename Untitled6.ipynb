{
  "nbformat": 4,
  "nbformat_minor": 0,
  "metadata": {
    "colab": {
      "provenance": [],
      "authorship_tag": "ABX9TyPvAnPTQfJj+iO887sE4MKm",
      "include_colab_link": true
    },
    "kernelspec": {
      "name": "python3",
      "display_name": "Python 3"
    },
    "language_info": {
      "name": "python"
    }
  },
  "cells": [
    {
      "cell_type": "markdown",
      "metadata": {
        "id": "view-in-github",
        "colab_type": "text"
      },
      "source": [
        "<a href=\"https://colab.research.google.com/github/ghreza2003/colab/blob/main/Untitled6.ipynb\" target=\"_parent\"><img src=\"https://colab.research.google.com/assets/colab-badge.svg\" alt=\"Open In Colab\"/></a>"
      ]
    },
    {
      "cell_type": "code",
      "source": [
        "#کد نهایی ب م م\n",
        "def gcd(x, y):\n",
        "   if x > y:\n",
        "       gcd_ = x\n",
        "   else:\n",
        "       gcd_ = y\n",
        "\n",
        "   while(True):\n",
        "       if((x % gcd_ == 0) and (y % gcd_ == 0)):\n",
        "           break\n",
        "       gcd_ -= 1\n",
        "\n",
        "   return gcd_\n",
        "\n",
        "\n",
        "num1 = int(input())\n",
        "num2 = int(input())\n",
        "print(\"gcd: \", gcd(num1, num2))"
      ],
      "metadata": {
        "id": "jE0SAF0xXNuA"
      },
      "execution_count": null,
      "outputs": []
    }
  ]
}